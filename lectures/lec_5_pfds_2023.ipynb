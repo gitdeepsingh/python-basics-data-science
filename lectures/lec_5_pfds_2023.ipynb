{
  "nbformat": 4,
  "nbformat_minor": 0,
  "metadata": {
    "colab": {
      "provenance": []
    },
    "kernelspec": {
      "name": "python3",
      "display_name": "Python 3"
    },
    "language_info": {
      "name": "python"
    }
  },
  "cells": [
    {
      "cell_type": "markdown",
      "source": [
        "Class"
      ],
      "metadata": {
        "id": "oVfpqMgnsrKG"
      }
    },
    {
      "cell_type": "code",
      "source": [
        "class Animal:\n",
        "    def say_hi(self):\n",
        "        print(\"Hello!\")"
      ],
      "metadata": {
        "id": "fsB5tWw7spzL"
      },
      "execution_count": null,
      "outputs": []
    },
    {
      "cell_type": "code",
      "source": [
        "x = Animal()\n",
        "x.say_hi()"
      ],
      "metadata": {
        "id": "b0fUxAhxstyg",
        "colab": {
          "base_uri": "https://localhost:8080/"
        },
        "outputId": "4a7ad814-304b-4d78-ca06-54a8bb1f79ac"
      },
      "execution_count": null,
      "outputs": [
        {
          "output_type": "stream",
          "name": "stdout",
          "text": [
            "Hello!\n"
          ]
        }
      ]
    },
    {
      "cell_type": "markdown",
      "source": [
        "## **The** $__init__$ method\n",
        "\n",
        "is the Python equivalent of the C++ constructor in an object-oriented approach. The __init__ function is called every time an object is created from a class. The __init__ method lets the class initialize the object's attributes and serves no other purpose. It is only used within classes."
      ],
      "metadata": {
        "id": "gxg7PBOntGlv"
      }
    },
    {
      "cell_type": "markdown",
      "source": [
        "## Example: Rational Numbers\n",
        "\n",
        "Here we'l make a class that holds rational numbers (fractions).  That is, numbers of the form\n",
        "$$r = \\frac{p}{q}$$\n",
        "where $p$ and $q$ are integers"
      ],
      "metadata": {
        "id": "vDY9kHj_s0lq"
      }
    },
    {
      "cell_type": "code",
      "source": [
        "import math\n",
        "class Rational:\n",
        "    def __init__(self, p, q=1):\n",
        "\n",
        "        if q == 0:\n",
        "            raise ValueError('Denominator must not be zero')\n",
        "        if not isinstance(p, int):\n",
        "            raise ValueError('Numerator must be an integer')\n",
        "        if not isinstance(q, int):\n",
        "            raise ValueError('Denominator must be an integer')\n",
        "\n",
        "        g = math.gcd(p, q)\n",
        "\n",
        "        self.p = p // g # integer division\n",
        "        self.q = q // g\n",
        "\n",
        "    # method to convert rational to float\n",
        "    def __float__(self):\n",
        "        return self.p / self.q\n",
        "\n",
        "    # method to convert rational to string for printing\n",
        "    def __str__(self):\n",
        "        return f'{self.p}/{self.q}'\n",
        "\n",
        "    def __repr__(self):\n",
        "        return f'Rational({self.p}, {self.q})'\n"
      ],
      "metadata": {
        "id": "efBEgYQKsz8K"
      },
      "execution_count": null,
      "outputs": []
    },
    {
      "cell_type": "code",
      "source": [
        "a = Rational(6, 4)\n",
        "b = Rational(3, 2)\n",
        "\n",
        "print(type(a))\n",
        "print(f\"a = {a}\")\n",
        "print(f\"b = {b}\")\n",
        "print([a,b])\n",
        "print(f\"float(a) = {float(a)}\")"
      ],
      "metadata": {
        "colab": {
          "base_uri": "https://localhost:8080/"
        },
        "id": "3MsXd558uAub",
        "outputId": "80bf04ff-caba-4cc0-f2a6-dc94e269e08e"
      },
      "execution_count": null,
      "outputs": [
        {
          "output_type": "stream",
          "name": "stdout",
          "text": [
            "<class '__main__.Rational'>\n",
            "a = 3/2\n",
            "b = 3/2\n",
            "[Rational(3, 2), Rational(3, 2)]\n",
            "float(a) = 1.5\n"
          ]
        }
      ]
    },
    {
      "cell_type": "markdown",
      "source": [
        "## MODULES"
      ],
      "metadata": {
        "id": "nOd5Z9R0itpi"
      }
    },
    {
      "cell_type": "code",
      "execution_count": null,
      "metadata": {
        "colab": {
          "base_uri": "https://localhost:8080/"
        },
        "id": "TF0yxakMia5U",
        "outputId": "2377dfa9-566a-4930-811d-f5b914180e85"
      },
      "outputs": [
        {
          "output_type": "execute_result",
          "data": {
            "text/plain": [
              "1.4142135623730951"
            ]
          },
          "metadata": {},
          "execution_count": 12
        }
      ],
      "source": [
        "# Importing a module\n",
        "\n",
        "import math\n",
        "math.sqrt(2)\n"
      ]
    },
    {
      "cell_type": "code",
      "source": [
        "# We can rename imported modules\n",
        "import math as m\n",
        "m.sqrt(2)"
      ],
      "metadata": {
        "colab": {
          "base_uri": "https://localhost:8080/"
        },
        "id": "iWCFYlKtjLVE",
        "outputId": "e0175310-9131-4eaa-992f-abe6e1beeaaa"
      },
      "execution_count": null,
      "outputs": [
        {
          "output_type": "execute_result",
          "data": {
            "text/plain": [
              "1.4142135623730951"
            ]
          },
          "metadata": {},
          "execution_count": 13
        }
      ]
    },
    {
      "cell_type": "markdown",
      "source": [
        "# In case we only need some part of a module"
      ],
      "metadata": {
        "id": "4JwKoG0Fisij"
      }
    },
    {
      "cell_type": "code",
      "source": [
        "from math import sqrt\n",
        "sqrt(2)"
      ],
      "metadata": {
        "colab": {
          "base_uri": "https://localhost:8080/"
        },
        "id": "Skp-mVjqjZmW",
        "outputId": "f8518cd9-ad9a-4ccd-8214-4bb97d55fe2d"
      },
      "execution_count": null,
      "outputs": [
        {
          "output_type": "execute_result",
          "data": {
            "text/plain": [
              "1.4142135623730951"
            ]
          },
          "metadata": {},
          "execution_count": 14
        }
      ]
    },
    {
      "cell_type": "code",
      "source": [
        "## BAD PRACTISE\n",
        "from math import *\n",
        "sqrt(2)\n",
        "\n"
      ],
      "metadata": {
        "colab": {
          "base_uri": "https://localhost:8080/"
        },
        "id": "LkyTW-bHjd8m",
        "outputId": "c86cc81c-d42c-4503-95b7-11c05b3987af"
      },
      "execution_count": null,
      "outputs": [
        {
          "output_type": "execute_result",
          "data": {
            "text/plain": [
              "1.4142135623730951"
            ]
          },
          "metadata": {},
          "execution_count": 15
        }
      ]
    },
    {
      "cell_type": "markdown",
      "source": [
        "## Writing your own modules"
      ],
      "metadata": {
        "id": "A1bgxPj1juco"
      }
    },
    {
      "cell_type": "code",
      "source": [
        "%%writefile firstmodule.py\n",
        "\n",
        "def helloworld():\n",
        "     print('Hello, world!')\n",
        "     print('this is my first module')\n",
        "print('This is a script')\n"
      ],
      "metadata": {
        "colab": {
          "base_uri": "https://localhost:8080/"
        },
        "id": "DLcEtbNcjtVp",
        "outputId": "bd9bcad1-f6fd-49ed-8fa1-9cccf786fb9a"
      },
      "execution_count": null,
      "outputs": [
        {
          "output_type": "stream",
          "name": "stdout",
          "text": [
            "Overwriting firstmodule.py\n"
          ]
        }
      ]
    },
    {
      "cell_type": "code",
      "source": [
        "import firstmodule\n",
        "firstmodule.helloworld()\n",
        "#firstmodule.helloworld()"
      ],
      "metadata": {
        "colab": {
          "base_uri": "https://localhost:8080/"
        },
        "id": "ENW4iL5XjjR_",
        "outputId": "8819b3fe-6be9-4422-f0f0-ebde812d5f25"
      },
      "execution_count": null,
      "outputs": [
        {
          "output_type": "stream",
          "name": "stdout",
          "text": [
            "Hello, world!\n",
            "this is my first module\n"
          ]
        }
      ]
    },
    {
      "cell_type": "code",
      "source": [
        "# Run the module as a script\n",
        "%run firstmodule.py"
      ],
      "metadata": {
        "colab": {
          "base_uri": "https://localhost:8080/"
        },
        "id": "sk1hy1JapQUV",
        "outputId": "536d1ff4-76d4-4abe-e5be-965d1d3fc33a"
      },
      "execution_count": null,
      "outputs": [
        {
          "output_type": "stream",
          "name": "stdout",
          "text": [
            "this only prints when run directly\n"
          ]
        }
      ]
    },
    {
      "cell_type": "code",
      "source": [
        "helloworld()"
      ],
      "metadata": {
        "colab": {
          "base_uri": "https://localhost:8080/"
        },
        "id": "M45g4dxOpaM2",
        "outputId": "27b5f089-18db-47c3-c9a4-6f6f766f5f46"
      },
      "execution_count": null,
      "outputs": [
        {
          "output_type": "stream",
          "name": "stdout",
          "text": [
            "Hello, world!\n",
            "this is my first module\n"
          ]
        }
      ]
    },
    {
      "cell_type": "markdown",
      "source": [
        "## By default, Python executes all code in a module when we import it.\n",
        "However, we can make code run only when the file is the main file"
      ],
      "metadata": {
        "id": "5y4lhuxgqDHe"
      }
    },
    {
      "cell_type": "code",
      "source": [
        "%%writefile firstmodule.py\n",
        "def helloworld():\n",
        "  print('hello, world!')\n",
        "  print('this is my first module')\n",
        "if __name__ == \"__main__\":\n",
        "  print('this only prints when run directly')"
      ],
      "metadata": {
        "colab": {
          "base_uri": "https://localhost:8080/"
        },
        "id": "dHFowE0aqBNz",
        "outputId": "1f5af79b-aaaf-441d-c254-64344d9bd392"
      },
      "execution_count": null,
      "outputs": [
        {
          "output_type": "stream",
          "name": "stdout",
          "text": [
            "Overwriting firstmodule.py\n"
          ]
        }
      ]
    },
    {
      "cell_type": "code",
      "source": [
        "import firstmodule\n",
        "firstmodule.helloworld()"
      ],
      "metadata": {
        "colab": {
          "base_uri": "https://localhost:8080/"
        },
        "id": "22RnI7Wd8kl9",
        "outputId": "f60df1b6-8dbe-48fb-b2ba-56e765358c84"
      },
      "execution_count": null,
      "outputs": [
        {
          "output_type": "stream",
          "name": "stdout",
          "text": [
            "hello, world!\n",
            "this is my first module\n"
          ]
        }
      ]
    },
    {
      "cell_type": "code",
      "source": [
        "%%writefile sample_module.py\n",
        "x = 2\n",
        "\n",
        "def func():\n",
        "    '''\n",
        "       This is a sample function\n",
        "       contains in a module.\n",
        "    '''\n",
        "    print('Hi from within a module!')\n",
        "\n",
        "if __name__ == '__main__':\n",
        "    print(\"<> Running the module as a script! <>\")\n",
        "    print(\"The Value of x is: \", x)\n",
        "    func()"
      ],
      "metadata": {
        "colab": {
          "base_uri": "https://localhost:8080/"
        },
        "id": "LHyK5gfJkFSi",
        "outputId": "cf91969e-9ede-4cc1-96cd-a27ce24b1b9e"
      },
      "execution_count": null,
      "outputs": [
        {
          "output_type": "stream",
          "name": "stdout",
          "text": [
            "Writing sample_module.py\n"
          ]
        }
      ]
    },
    {
      "cell_type": "code",
      "source": [
        "import sample_module\n",
        "print(dir(sample_module))"
      ],
      "metadata": {
        "colab": {
          "base_uri": "https://localhost:8080/"
        },
        "id": "Y97NqR3osEuc",
        "outputId": "750469f6-6d67-4cf0-fd09-af4fd5643c45"
      },
      "execution_count": null,
      "outputs": [
        {
          "output_type": "stream",
          "name": "stdout",
          "text": [
            "['__builtins__', '__cached__', '__doc__', '__file__', '__loader__', '__name__', '__package__', '__spec__', 'func', 'x']\n"
          ]
        }
      ]
    },
    {
      "cell_type": "code",
      "source": [
        "print(sample_module.x)"
      ],
      "metadata": {
        "id": "mDAUQUYtsQiV",
        "colab": {
          "base_uri": "https://localhost:8080/"
        },
        "outputId": "cb2fffbb-6c0d-41c7-9c95-64b3854c2bfa"
      },
      "execution_count": null,
      "outputs": [
        {
          "output_type": "stream",
          "name": "stdout",
          "text": [
            "2\n"
          ]
        }
      ]
    },
    {
      "cell_type": "code",
      "source": [
        "sample_module.func()"
      ],
      "metadata": {
        "id": "j3Nxl_eqsRRt",
        "colab": {
          "base_uri": "https://localhost:8080/"
        },
        "outputId": "748acf11-f1d4-4778-bd5c-6b336aaa8fa6"
      },
      "execution_count": null,
      "outputs": [
        {
          "output_type": "execute_result",
          "data": {
            "text/plain": [
              "<function sample_module.func()>"
            ]
          },
          "metadata": {},
          "execution_count": 14
        }
      ]
    },
    {
      "cell_type": "code",
      "source": [
        "print(sample_module.func.__doc__)"
      ],
      "metadata": {
        "id": "Z1RkrOo9sUc2",
        "colab": {
          "base_uri": "https://localhost:8080/"
        },
        "outputId": "7318772b-9f06-4cf8-df63-71294dbb0b06"
      },
      "execution_count": null,
      "outputs": [
        {
          "output_type": "stream",
          "name": "stdout",
          "text": [
            "\n",
            "       This is a sample function\n",
            "       contains in a module.\n",
            "    \n"
          ]
        }
      ]
    },
    {
      "cell_type": "code",
      "source": [
        "%run sample_module.py"
      ],
      "metadata": {
        "colab": {
          "base_uri": "https://localhost:8080/"
        },
        "id": "M69IOZVJAp_f",
        "outputId": "b80345ed-69b8-4d3c-97e7-f33e5522f803"
      },
      "execution_count": null,
      "outputs": [
        {
          "output_type": "stream",
          "name": "stdout",
          "text": [
            "<> Running the module as a script! <>\n",
            "The Value of x is:  2\n",
            "Hi from within a module!\n"
          ]
        }
      ]
    },
    {
      "cell_type": "markdown",
      "source": [
        "## NumPy\n",
        "Python provides only a handful of numeric types: ints, longs, floats, and complex numbers. NumPy implements one very useful numeric type: multidimensional arrays."
      ],
      "metadata": {
        "id": "6Nar4miTkLrS"
      }
    },
    {
      "cell_type": "code",
      "source": [],
      "metadata": {
        "id": "Q34P00_SkfYE"
      },
      "execution_count": null,
      "outputs": []
    },
    {
      "cell_type": "code",
      "source": [
        "import numpy as np"
      ],
      "metadata": {
        "id": "976jvoqokbfE"
      },
      "execution_count": null,
      "outputs": []
    },
    {
      "cell_type": "code",
      "source": [
        "x = np.array([[0, 1], [1, 5]])\n",
        "x"
      ],
      "metadata": {
        "colab": {
          "base_uri": "https://localhost:8080/"
        },
        "id": "M23e6BBykgmc",
        "outputId": "388fb960-7d70-4bdc-9d04-b55f4e5dd09b"
      },
      "execution_count": null,
      "outputs": [
        {
          "output_type": "execute_result",
          "data": {
            "text/plain": [
              "array([[0, 1],\n",
              "       [1, 5]])"
            ]
          },
          "metadata": {},
          "execution_count": 31
        }
      ]
    },
    {
      "cell_type": "code",
      "source": [
        "y = np.array([[4, 0], [0, 4]])\n",
        "y"
      ],
      "metadata": {
        "colab": {
          "base_uri": "https://localhost:8080/"
        },
        "id": "K0k8Giaokjbe",
        "outputId": "3e9fe17a-f987-4544-9b46-428b56ccbf4c"
      },
      "execution_count": null,
      "outputs": [
        {
          "output_type": "execute_result",
          "data": {
            "text/plain": [
              "array([[4, 0],\n",
              "       [0, 4]])"
            ]
          },
          "metadata": {},
          "execution_count": 32
        }
      ]
    },
    {
      "cell_type": "code",
      "source": [
        "x + y"
      ],
      "metadata": {
        "colab": {
          "base_uri": "https://localhost:8080/"
        },
        "id": "0h0MKF0HkqFQ",
        "outputId": "3af1b1af-f459-4342-ac8a-d5cc6a7460e7"
      },
      "execution_count": null,
      "outputs": [
        {
          "output_type": "execute_result",
          "data": {
            "text/plain": [
              "array([[4, 1],\n",
              "       [1, 9]])"
            ]
          },
          "metadata": {},
          "execution_count": 33
        }
      ]
    },
    {
      "cell_type": "code",
      "source": [
        "x ** 2"
      ],
      "metadata": {
        "colab": {
          "base_uri": "https://localhost:8080/"
        },
        "id": "iFwwlubLkqln",
        "outputId": "ff17972f-d7e0-45d8-aeed-c09174e1d6e3"
      },
      "execution_count": null,
      "outputs": [
        {
          "output_type": "execute_result",
          "data": {
            "text/plain": [
              "array([[ 0,  1],\n",
              "       [ 1, 25]])"
            ]
          },
          "metadata": {},
          "execution_count": 34
        }
      ]
    },
    {
      "cell_type": "code",
      "source": [
        "x @ y  # Matrix multiplication"
      ],
      "metadata": {
        "colab": {
          "base_uri": "https://localhost:8080/"
        },
        "id": "w3_rLhVXkttH",
        "outputId": "04d78b9a-7081-4f3a-e824-fedaeffabad4"
      },
      "execution_count": null,
      "outputs": [
        {
          "output_type": "execute_result",
          "data": {
            "text/plain": [
              "array([[ 0,  4],\n",
              "       [ 4, 20]])"
            ]
          },
          "metadata": {},
          "execution_count": 35
        }
      ]
    },
    {
      "cell_type": "code",
      "source": [
        "np.sum(x)"
      ],
      "metadata": {
        "colab": {
          "base_uri": "https://localhost:8080/"
        },
        "id": "T6u_PW9elahU",
        "outputId": "8da6d6f5-7027-487f-b13b-9375bedb0afe"
      },
      "execution_count": null,
      "outputs": [
        {
          "output_type": "execute_result",
          "data": {
            "text/plain": [
              "7"
            ]
          },
          "metadata": {},
          "execution_count": 36
        }
      ]
    },
    {
      "cell_type": "code",
      "source": [],
      "metadata": {
        "id": "9OYwZ6_8ltYH"
      },
      "execution_count": null,
      "outputs": []
    },
    {
      "cell_type": "markdown",
      "source": [
        "Why???"
      ],
      "metadata": {
        "id": "bdTxUPeult7f"
      }
    },
    {
      "cell_type": "code",
      "source": [
        "%%timeit\n",
        "x = np.random.rand(10000)\n",
        "y = np.random.rand(10000)\n",
        "z=0\n",
        "for i in range(10000):\n",
        "    z += x[i]*y[i]"
      ],
      "metadata": {
        "colab": {
          "base_uri": "https://localhost:8080/"
        },
        "id": "DQy9VFOxliWE",
        "outputId": "d44d03ee-6236-4c26-ea75-c77d0affbd44"
      },
      "execution_count": null,
      "outputs": [
        {
          "output_type": "stream",
          "name": "stdout",
          "text": [
            "100 loops, best of 5: 3.32 ms per loop\n"
          ]
        }
      ]
    },
    {
      "cell_type": "code",
      "source": [
        "%%timeit\n",
        "x = np.random.rand(10000)\n",
        "y = np.random.rand(10000)\n",
        "z = np.dot(x,y)"
      ],
      "metadata": {
        "colab": {
          "base_uri": "https://localhost:8080/"
        },
        "id": "Lby93FJWlnEu",
        "outputId": "37d21946-9e22-4192-b9e9-952e2b34bd2b"
      },
      "execution_count": null,
      "outputs": [
        {
          "output_type": "stream",
          "name": "stdout",
          "text": [
            "1000 loops, best of 5: 187 µs per loop\n"
          ]
        }
      ]
    },
    {
      "cell_type": "markdown",
      "source": [
        "## NumPy functions for creating arrays"
      ],
      "metadata": {
        "id": "BLjCf9-wly4F"
      }
    },
    {
      "cell_type": "code",
      "source": [
        "X=np.zeros((10,10))\n",
        "X"
      ],
      "metadata": {
        "colab": {
          "base_uri": "https://localhost:8080/"
        },
        "id": "t3AGhs-omvnv",
        "outputId": "1a6241f7-7613-418c-d3c1-c5d00cc35ea8"
      },
      "execution_count": null,
      "outputs": [
        {
          "output_type": "execute_result",
          "data": {
            "text/plain": [
              "array([[0., 0., 0., 0., 0., 0., 0., 0., 0., 0.],\n",
              "       [0., 0., 0., 0., 0., 0., 0., 0., 0., 0.],\n",
              "       [0., 0., 0., 0., 0., 0., 0., 0., 0., 0.],\n",
              "       [0., 0., 0., 0., 0., 0., 0., 0., 0., 0.],\n",
              "       [0., 0., 0., 0., 0., 0., 0., 0., 0., 0.],\n",
              "       [0., 0., 0., 0., 0., 0., 0., 0., 0., 0.],\n",
              "       [0., 0., 0., 0., 0., 0., 0., 0., 0., 0.],\n",
              "       [0., 0., 0., 0., 0., 0., 0., 0., 0., 0.],\n",
              "       [0., 0., 0., 0., 0., 0., 0., 0., 0., 0.],\n",
              "       [0., 0., 0., 0., 0., 0., 0., 0., 0., 0.]])"
            ]
          },
          "metadata": {},
          "execution_count": 39
        }
      ]
    },
    {
      "cell_type": "code",
      "source": [
        "X.shape"
      ],
      "metadata": {
        "colab": {
          "base_uri": "https://localhost:8080/"
        },
        "id": "vwBMCiPLm12b",
        "outputId": "2c5d3cd2-8487-40f5-dc6c-f69db7a30005"
      },
      "execution_count": null,
      "outputs": [
        {
          "output_type": "execute_result",
          "data": {
            "text/plain": [
              "(10, 10)"
            ]
          },
          "metadata": {},
          "execution_count": 40
        }
      ]
    },
    {
      "cell_type": "code",
      "source": [
        "Y=np.ones((10,10))\n",
        "Y"
      ],
      "metadata": {
        "colab": {
          "base_uri": "https://localhost:8080/"
        },
        "id": "-Ml4ERPcnMak",
        "outputId": "d859f642-94d5-4866-948d-f1b7acd63c06"
      },
      "execution_count": null,
      "outputs": [
        {
          "output_type": "execute_result",
          "data": {
            "text/plain": [
              "array([[1., 1., 1., 1., 1., 1., 1., 1., 1., 1.],\n",
              "       [1., 1., 1., 1., 1., 1., 1., 1., 1., 1.],\n",
              "       [1., 1., 1., 1., 1., 1., 1., 1., 1., 1.],\n",
              "       [1., 1., 1., 1., 1., 1., 1., 1., 1., 1.],\n",
              "       [1., 1., 1., 1., 1., 1., 1., 1., 1., 1.],\n",
              "       [1., 1., 1., 1., 1., 1., 1., 1., 1., 1.],\n",
              "       [1., 1., 1., 1., 1., 1., 1., 1., 1., 1.],\n",
              "       [1., 1., 1., 1., 1., 1., 1., 1., 1., 1.],\n",
              "       [1., 1., 1., 1., 1., 1., 1., 1., 1., 1.],\n",
              "       [1., 1., 1., 1., 1., 1., 1., 1., 1., 1.]])"
            ]
          },
          "metadata": {},
          "execution_count": 41
        }
      ]
    },
    {
      "cell_type": "code",
      "source": [
        "2*Y+3"
      ],
      "metadata": {
        "colab": {
          "base_uri": "https://localhost:8080/"
        },
        "id": "tn1RDjXpnM-U",
        "outputId": "4a4411ab-a9fd-4bd1-90c0-133f8bd3d82c"
      },
      "execution_count": null,
      "outputs": [
        {
          "output_type": "execute_result",
          "data": {
            "text/plain": [
              "array([[5., 5., 5., 5., 5., 5., 5., 5., 5., 5.],\n",
              "       [5., 5., 5., 5., 5., 5., 5., 5., 5., 5.],\n",
              "       [5., 5., 5., 5., 5., 5., 5., 5., 5., 5.],\n",
              "       [5., 5., 5., 5., 5., 5., 5., 5., 5., 5.],\n",
              "       [5., 5., 5., 5., 5., 5., 5., 5., 5., 5.],\n",
              "       [5., 5., 5., 5., 5., 5., 5., 5., 5., 5.],\n",
              "       [5., 5., 5., 5., 5., 5., 5., 5., 5., 5.],\n",
              "       [5., 5., 5., 5., 5., 5., 5., 5., 5., 5.],\n",
              "       [5., 5., 5., 5., 5., 5., 5., 5., 5., 5.],\n",
              "       [5., 5., 5., 5., 5., 5., 5., 5., 5., 5.]])"
            ]
          },
          "metadata": {},
          "execution_count": 42
        }
      ]
    },
    {
      "cell_type": "code",
      "source": [
        "R=np.random.rand(5,5)\n",
        "R"
      ],
      "metadata": {
        "colab": {
          "base_uri": "https://localhost:8080/"
        },
        "id": "TgD96-amnSJ5",
        "outputId": "8b4a5791-ef70-44eb-f992-b8a2c1491d93"
      },
      "execution_count": null,
      "outputs": [
        {
          "output_type": "execute_result",
          "data": {
            "text/plain": [
              "array([[0.84666254, 0.40439254, 0.90502271, 0.96151754, 0.55032726],\n",
              "       [0.556694  , 0.15400289, 0.14778028, 0.99551414, 0.79423515],\n",
              "       [0.19574119, 0.76972539, 0.07697697, 0.04179273, 0.74774914],\n",
              "       [0.11897362, 0.87153801, 0.36132523, 0.50814244, 0.04136973],\n",
              "       [0.8506367 , 0.83761699, 0.27642367, 0.96325009, 0.05143075]])"
            ]
          },
          "metadata": {},
          "execution_count": 43
        }
      ]
    },
    {
      "cell_type": "code",
      "source": [
        "Rn = np.random.randn(5,5)\n",
        "Rn"
      ],
      "metadata": {
        "colab": {
          "base_uri": "https://localhost:8080/"
        },
        "id": "o1OyeWI1nV31",
        "outputId": "258a8701-38b0-4514-8692-b76a5866a33b"
      },
      "execution_count": null,
      "outputs": [
        {
          "output_type": "execute_result",
          "data": {
            "text/plain": [
              "array([[ 1.8980653 ,  0.91633831,  0.34037075, -1.74405015, -0.37757494],\n",
              "       [ 0.81801625,  0.75554314, -1.48727241, -0.5397946 , -1.20280118],\n",
              "       [ 0.44175596,  0.38404283, -0.64921334, -1.7994855 , -1.33356256],\n",
              "       [ 1.27235596, -0.77563172,  0.82498158, -0.53604966, -0.31756857],\n",
              "       [-0.36742731,  0.55298774, -2.70945533,  0.34368516, -1.20917101]])"
            ]
          },
          "metadata": {},
          "execution_count": 44
        }
      ]
    },
    {
      "cell_type": "code",
      "source": [
        "np.arange(1,100,2)"
      ],
      "metadata": {
        "colab": {
          "base_uri": "https://localhost:8080/"
        },
        "id": "O1zTHbTgnWol",
        "outputId": "4cecdf34-acea-4a2d-f344-7c6dded7362e"
      },
      "execution_count": null,
      "outputs": [
        {
          "output_type": "execute_result",
          "data": {
            "text/plain": [
              "array([ 1,  3,  5,  7,  9, 11, 13, 15, 17, 19, 21, 23, 25, 27, 29, 31, 33,\n",
              "       35, 37, 39, 41, 43, 45, 47, 49, 51, 53, 55, 57, 59, 61, 63, 65, 67,\n",
              "       69, 71, 73, 75, 77, 79, 81, 83, 85, 87, 89, 91, 93, 95, 97, 99])"
            ]
          },
          "metadata": {},
          "execution_count": 18
        }
      ]
    },
    {
      "cell_type": "code",
      "source": [
        "np.linspace(0,5,10)"
      ],
      "metadata": {
        "colab": {
          "base_uri": "https://localhost:8080/"
        },
        "id": "qa96QophncyT",
        "outputId": "f0611fdc-d197-4191-85c4-e87ab902577e"
      },
      "execution_count": null,
      "outputs": [
        {
          "output_type": "execute_result",
          "data": {
            "text/plain": [
              "array([0.        , 0.55555556, 1.11111111, 1.66666667, 2.22222222,\n",
              "       2.77777778, 3.33333333, 3.88888889, 4.44444444, 5.        ])"
            ]
          },
          "metadata": {},
          "execution_count": 19
        }
      ]
    },
    {
      "cell_type": "code",
      "source": [
        "X = np.arange(0,100)\n",
        "X"
      ],
      "metadata": {
        "colab": {
          "base_uri": "https://localhost:8080/"
        },
        "id": "Lz9596jjngzd",
        "outputId": "f5320c41-ec95-498f-867e-084dc81cb982"
      },
      "execution_count": null,
      "outputs": [
        {
          "output_type": "execute_result",
          "data": {
            "text/plain": [
              "array([ 0,  1,  2,  3,  4,  5,  6,  7,  8,  9, 10, 11, 12, 13, 14, 15, 16,\n",
              "       17, 18, 19, 20, 21, 22, 23, 24, 25, 26, 27, 28, 29, 30, 31, 32, 33,\n",
              "       34, 35, 36, 37, 38, 39, 40, 41, 42, 43, 44, 45, 46, 47, 48, 49, 50,\n",
              "       51, 52, 53, 54, 55, 56, 57, 58, 59, 60, 61, 62, 63, 64, 65, 66, 67,\n",
              "       68, 69, 70, 71, 72, 73, 74, 75, 76, 77, 78, 79, 80, 81, 82, 83, 84,\n",
              "       85, 86, 87, 88, 89, 90, 91, 92, 93, 94, 95, 96, 97, 98, 99])"
            ]
          },
          "metadata": {},
          "execution_count": 47
        }
      ]
    },
    {
      "cell_type": "code",
      "source": [
        "X.reshape((10,10))"
      ],
      "metadata": {
        "colab": {
          "base_uri": "https://localhost:8080/"
        },
        "id": "E9OAWLB1EaZH",
        "outputId": "c77a14a9-a23c-4d74-ed13-ac02079a481f"
      },
      "execution_count": null,
      "outputs": [
        {
          "output_type": "execute_result",
          "data": {
            "text/plain": [
              "array([[ 0,  1,  2,  3,  4,  5,  6,  7,  8,  9],\n",
              "       [10, 11, 12, 13, 14, 15, 16, 17, 18, 19],\n",
              "       [20, 21, 22, 23, 24, 25, 26, 27, 28, 29],\n",
              "       [30, 31, 32, 33, 34, 35, 36, 37, 38, 39],\n",
              "       [40, 41, 42, 43, 44, 45, 46, 47, 48, 49],\n",
              "       [50, 51, 52, 53, 54, 55, 56, 57, 58, 59],\n",
              "       [60, 61, 62, 63, 64, 65, 66, 67, 68, 69],\n",
              "       [70, 71, 72, 73, 74, 75, 76, 77, 78, 79],\n",
              "       [80, 81, 82, 83, 84, 85, 86, 87, 88, 89],\n",
              "       [90, 91, 92, 93, 94, 95, 96, 97, 98, 99]])"
            ]
          },
          "metadata": {},
          "execution_count": 48
        }
      ]
    },
    {
      "cell_type": "code",
      "source": [
        "import numpy as np\n",
        "a = np.ones(shape=(3,3))\n",
        "print(a)"
      ],
      "metadata": {
        "colab": {
          "base_uri": "https://localhost:8080/"
        },
        "id": "sce9qLiR53vn",
        "outputId": "8644e5f2-7e0e-4a8d-f4e9-7e5601368c94"
      },
      "execution_count": null,
      "outputs": [
        {
          "output_type": "stream",
          "name": "stdout",
          "text": [
            "[[1. 1. 1.]\n",
            " [1. 1. 1.]\n",
            " [1. 1. 1.]]\n"
          ]
        }
      ]
    },
    {
      "cell_type": "code",
      "source": [
        "b = np.zeros(shape=(2,4,2))\n",
        "print(b)"
      ],
      "metadata": {
        "colab": {
          "base_uri": "https://localhost:8080/"
        },
        "id": "xaJAjall6Dr9",
        "outputId": "6d7e39cb-12b8-4c98-918b-b1b572554494"
      },
      "execution_count": null,
      "outputs": [
        {
          "output_type": "stream",
          "name": "stdout",
          "text": [
            "[[[0. 0.]\n",
            "  [0. 0.]\n",
            "  [0. 0.]\n",
            "  [0. 0.]]\n",
            "\n",
            " [[0. 0.]\n",
            "  [0. 0.]\n",
            "  [0. 0.]\n",
            "  [0. 0.]]]\n"
          ]
        }
      ]
    },
    {
      "cell_type": "code",
      "source": [
        "c = np.diag([1.,3.,5.])\n",
        "print(c)"
      ],
      "metadata": {
        "colab": {
          "base_uri": "https://localhost:8080/"
        },
        "id": "t33sfl1L6JW1",
        "outputId": "58ead97e-a1ab-4202-b9f2-5593b212bc58"
      },
      "execution_count": null,
      "outputs": [
        {
          "output_type": "stream",
          "name": "stdout",
          "text": [
            "[[1. 0. 0.]\n",
            " [0. 3. 0.]\n",
            " [0. 0. 5.]]\n"
          ]
        }
      ]
    },
    {
      "cell_type": "code",
      "source": [
        "l1 = 3.0\n",
        "l2 = 6.0\n",
        "a = l1 + (l2 - l1)*np.random.rand(10) # 1D array with 10 uniform random numbers between [3.0, 6.0]\n",
        "print(a)"
      ],
      "metadata": {
        "colab": {
          "base_uri": "https://localhost:8080/"
        },
        "id": "4_qNCYv-6SM6",
        "outputId": "0270dabd-e6e7-42b5-ea93-1b27e565e9a9"
      },
      "execution_count": null,
      "outputs": [
        {
          "output_type": "stream",
          "name": "stdout",
          "text": [
            "[5.6276888  5.55095995 4.54736846 5.20116848 3.90388986 4.39803244\n",
            " 3.39808418 5.21339723 5.23663277 3.29565679]\n"
          ]
        }
      ]
    },
    {
      "cell_type": "code",
      "source": [
        "np.random.seed(1234)\n",
        "sigma = 1.0\n",
        "mu = 0.0\n",
        "b = sigma*np.random.randn(2,4) + mu     # 2D array of normal random numbers i.e.,Gaussian distribution with mu and sigma\n",
        "\n",
        "print(b)\n",
        "np.random.seed(1234)"
      ],
      "metadata": {
        "colab": {
          "base_uri": "https://localhost:8080/"
        },
        "id": "MzxHd_Wn6a5G",
        "outputId": "281f5930-5d1a-4461-97c1-175327a9093d"
      },
      "execution_count": null,
      "outputs": [
        {
          "output_type": "stream",
          "name": "stdout",
          "text": [
            "[[ 0.47143516 -1.19097569  1.43270697 -0.3126519 ]\n",
            " [-0.72058873  0.88716294  0.85958841 -0.6365235 ]]\n"
          ]
        }
      ]
    },
    {
      "cell_type": "code",
      "source": [
        "a = np.array([1,2,3])\n",
        "print(a.dtype)\n",
        "\n",
        "b = np.array([1.,2.,3.])\n",
        "bi = np.array([1.,2.,3.], dtype='int64')\n",
        "print(b.dtype, bi.dtype)\n",
        "\n",
        "c = np.array([True, False, True, False , False])\n",
        "print(c.dtype)\n",
        "\n",
        "d = np.zeros(shape=(4,), dtype='complex128')\n",
        "d.real = np.random.rand(4)\n",
        "d.imag = np.random.randn(4)\n",
        "print(d.dtype, d)"
      ],
      "metadata": {
        "colab": {
          "base_uri": "https://localhost:8080/"
        },
        "id": "vAtwHxvl6iZK",
        "outputId": "4ee5d70d-3d05-444f-c832-24df0c342ad7"
      },
      "execution_count": null,
      "outputs": [
        {
          "output_type": "stream",
          "name": "stdout",
          "text": [
            "int64\n",
            "float64 int64\n",
            "bool\n",
            "complex128 [0.95813935+1.15003572j 0.87593263+0.99194602j 0.35781727+0.95332413j\n",
            " 0.50099513-2.02125482j]\n"
          ]
        }
      ]
    },
    {
      "cell_type": "markdown",
      "source": [
        "##Plotting"
      ],
      "metadata": {
        "id": "e9nwm_sgoBSM"
      }
    },
    {
      "cell_type": "code",
      "source": [
        "import matplotlib.pyplot as plt"
      ],
      "metadata": {
        "id": "Ooy-orpLoEog"
      },
      "execution_count": null,
      "outputs": []
    },
    {
      "cell_type": "code",
      "source": [
        "x = np.linspace(-5,5,100)\n",
        "x\n",
        "y = x*x\n",
        "y"
      ],
      "metadata": {
        "colab": {
          "base_uri": "https://localhost:8080/"
        },
        "id": "R5_a1LrDoHPC",
        "outputId": "ca9ff381-cb64-4ebe-dd1b-7280f940bff7"
      },
      "execution_count": null,
      "outputs": [
        {
          "output_type": "execute_result",
          "data": {
            "text/plain": [
              "array([2.50000000e+01, 2.40001020e+01, 2.30206101e+01, 2.20615243e+01,\n",
              "       2.11228446e+01, 2.02045710e+01, 1.93067034e+01, 1.84292419e+01,\n",
              "       1.75721865e+01, 1.67355372e+01, 1.59192939e+01, 1.51234568e+01,\n",
              "       1.43480257e+01, 1.35930007e+01, 1.28583818e+01, 1.21441690e+01,\n",
              "       1.14503622e+01, 1.07769615e+01, 1.01239669e+01, 9.49137843e+00,\n",
              "       8.87919600e+00, 8.28741965e+00, 7.71604938e+00, 7.16508520e+00,\n",
              "       6.63452709e+00, 6.12437506e+00, 5.63462912e+00, 5.16528926e+00,\n",
              "       4.71635547e+00, 4.28782777e+00, 3.87970615e+00, 3.49199061e+00,\n",
              "       3.12468115e+00, 2.77777778e+00, 2.45128048e+00, 2.14518927e+00,\n",
              "       1.85950413e+00, 1.59422508e+00, 1.34935211e+00, 1.12488522e+00,\n",
              "       9.20824406e-01, 7.37169677e-01, 5.73921028e-01, 4.31078461e-01,\n",
              "       3.08641975e-01, 2.06611570e-01, 1.24987246e-01, 6.37690032e-02,\n",
              "       2.29568411e-02, 2.55076013e-03, 2.55076013e-03, 2.29568411e-02,\n",
              "       6.37690032e-02, 1.24987246e-01, 2.06611570e-01, 3.08641975e-01,\n",
              "       4.31078461e-01, 5.73921028e-01, 7.37169677e-01, 9.20824406e-01,\n",
              "       1.12488522e+00, 1.34935211e+00, 1.59422508e+00, 1.85950413e+00,\n",
              "       2.14518927e+00, 2.45128048e+00, 2.77777778e+00, 3.12468115e+00,\n",
              "       3.49199061e+00, 3.87970615e+00, 4.28782777e+00, 4.71635547e+00,\n",
              "       5.16528926e+00, 5.63462912e+00, 6.12437506e+00, 6.63452709e+00,\n",
              "       7.16508520e+00, 7.71604938e+00, 8.28741965e+00, 8.87919600e+00,\n",
              "       9.49137843e+00, 1.01239669e+01, 1.07769615e+01, 1.14503622e+01,\n",
              "       1.21441690e+01, 1.28583818e+01, 1.35930007e+01, 1.43480257e+01,\n",
              "       1.51234568e+01, 1.59192939e+01, 1.67355372e+01, 1.75721865e+01,\n",
              "       1.84292419e+01, 1.93067034e+01, 2.02045710e+01, 2.11228446e+01,\n",
              "       2.20615243e+01, 2.30206101e+01, 2.40001020e+01, 2.50000000e+01])"
            ]
          },
          "metadata": {},
          "execution_count": 59
        }
      ]
    },
    {
      "cell_type": "code",
      "source": [
        "plt.plot(x,y)"
      ],
      "metadata": {
        "colab": {
          "base_uri": "https://localhost:8080/",
          "height": 282
        },
        "id": "lYT4o3PLoNpV",
        "outputId": "ea2bf38a-c80c-4c17-c80d-298a0e2c5129"
      },
      "execution_count": null,
      "outputs": [
        {
          "output_type": "execute_result",
          "data": {
            "text/plain": [
              "[<matplotlib.lines.Line2D at 0x7f5fd15213d0>]"
            ]
          },
          "metadata": {},
          "execution_count": 62
        },
        {
          "output_type": "display_data",
          "data": {
            "text/plain": [
              "<Figure size 432x288 with 1 Axes>"
            ],
            "image/png": "[encoded data removed]"
          },
          "metadata": {
            "needs_background": "light"
          }
        }
      ]
    },
    {
      "cell_type": "code",
      "source": [
        "plt.plot(y)"
      ],
      "metadata": {
        "colab": {
          "base_uri": "https://localhost:8080/",
          "height": 282
        },
        "id": "nPc195vhoREt",
        "outputId": "f420be59-0690-4459-cf2b-ad797798e779"
      },
      "execution_count": null,
      "outputs": [
        {
          "output_type": "execute_result",
          "data": {
            "text/plain": [
              "[<matplotlib.lines.Line2D at 0x7f5fd0fc8750>]"
            ]
          },
          "metadata": {},
          "execution_count": 63
        },
        {
          "output_type": "display_data",
          "data": {
            "text/plain": [
              "<Figure size 432x288 with 1 Axes>"
            ],
            "image/png": "[encoded data removed]"
          },
          "metadata": {
            "needs_background": "light"
          }
        }
      ]
    },
    {
      "cell_type": "code",
      "source": [
        "plt.plot(np.random.rand(10))"
      ],
      "metadata": {
        "colab": {
          "base_uri": "https://localhost:8080/",
          "height": 285
        },
        "id": "MD63iC96oUVW",
        "outputId": "e448c454-e517-4273-d1ad-6c7ec34cd292"
      },
      "execution_count": null,
      "outputs": [
        {
          "output_type": "execute_result",
          "data": {
            "text/plain": [
              "[<matplotlib.lines.Line2D at 0x7f5fd0ea3ed0>]"
            ]
          },
          "metadata": {},
          "execution_count": 65
        },
        {
          "output_type": "display_data",
          "data": {
            "text/plain": [
              "<Figure size 432x288 with 1 Axes>"
            ],
            "image/png": "[encoded data removed]"
          },
          "metadata": {
            "needs_background": "light"
          }
        }
      ]
    },
    {
      "cell_type": "code",
      "source": [
        "plt.plot(np.random.rand(10))\n",
        "plt.plot(np.random.rand(10))"
      ],
      "metadata": {
        "colab": {
          "base_uri": "https://localhost:8080/",
          "height": 282
        },
        "id": "z3-zSDFZoX1O",
        "outputId": "38aac527-0b31-4b61-8ce8-8387c0bfaadc"
      },
      "execution_count": null,
      "outputs": [
        {
          "output_type": "execute_result",
          "data": {
            "text/plain": [
              "[<matplotlib.lines.Line2D at 0x7f5fd0e5b950>]"
            ]
          },
          "metadata": {},
          "execution_count": 66
        },
        {
          "output_type": "display_data",
          "data": {
            "text/plain": [
              "<Figure size 432x288 with 1 Axes>"
            ],
            "image/png": "[encoded data removed]"
          },
          "metadata": {
            "needs_background": "light"
          }
        }
      ]
    },
    {
      "cell_type": "code",
      "source": [
        "plt.plot(np.random.rand(10))\n",
        "plt.plot(np.random.rand(10))\n",
        "plt.legend([\"curve1\",\"curve2\"])\n",
        "plt.xlabel(\"X label\")\n",
        "plt.ylabel(\"Y label\")\n",
        "plt.title(\"Title\")"
      ],
      "metadata": {
        "id": "HP7w4kmjobkX",
        "outputId": "dba5967a-ab69-492c-deb8-85b5bab38ac3",
        "colab": {
          "base_uri": "https://localhost:8080/",
          "height": 312
        }
      },
      "execution_count": null,
      "outputs": [
        {
          "output_type": "execute_result",
          "data": {
            "text/plain": [
              "Text(0.5, 1.0, 'Title')"
            ]
          },
          "metadata": {},
          "execution_count": 67
        },
        {
          "output_type": "display_data",
          "data": {
            "text/plain": [
              "<Figure size 432x288 with 1 Axes>"
            ],
            "image/png": "[encoded data removed]"
          },
          "metadata": {
            "needs_background": "light"
          }
        }
      ]
    }
  ]
}