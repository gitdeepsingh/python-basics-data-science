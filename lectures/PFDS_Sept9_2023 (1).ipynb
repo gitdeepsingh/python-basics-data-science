{
 "cells": [
  {
   "cell_type": "code",
   "execution_count": 1,
   "id": "44c2622f",
   "metadata": {},
   "outputs": [],
   "source": [
    "import numpy as np"
   ]
  },
  {
   "cell_type": "code",
   "execution_count": 2,
   "id": "cf452f65",
   "metadata": {},
   "outputs": [],
   "source": [
    "#Mathematical Operations\n",
    "a=np.linspace(0,10,11) # start, end (included), number of points\n",
    "b=np.linspace(0,20,11)"
   ]
  },
  {
   "cell_type": "code",
   "execution_count": 3,
   "id": "4a5ff116",
   "metadata": {},
   "outputs": [
    {
     "name": "stdout",
     "output_type": "stream",
     "text": [
      "sum(a) = 55.0\n",
      "mean(a) = 5.0\n"
     ]
    }
   ],
   "source": [
    "print(f\"sum(a) = {np.sum(a)}\")  # Sum of a \n",
    "print(f\"mean(a) = {np.mean(a)}\") # Mean of the a"
   ]
  },
  {
   "cell_type": "code",
   "execution_count": 4,
   "id": "402bdf75",
   "metadata": {},
   "outputs": [
    {
     "name": "stdout",
     "output_type": "stream",
     "text": [
      "sum(b) = 110.0\n",
      "mean(b) = 10.0\n"
     ]
    }
   ],
   "source": [
    "print(f\"sum(b) = {np.sum(b)}\")  # Sum of a \n",
    "print(f\"mean(b) = {np.mean(b)}\") # Mean of the a"
   ]
  },
  {
   "cell_type": "code",
   "execution_count": 7,
   "id": "8482ad58",
   "metadata": {},
   "outputs": [
    {
     "name": "stdout",
     "output_type": "stream",
     "text": [
      "a*b = [  0.   2.   8.  18.  32.  50.  72.  98. 128. 162. 200.]\n",
      "11\n",
      "11\n",
      "11\n",
      "a^2 = [  0.   1.   4.   9.  16.  25.  36.  49.  64.  81. 100.]\n"
     ]
    }
   ],
   "source": [
    "# Simple power, multiplication etc are done elementwise.\n",
    "print(f\"a*b = {a*b}\")\n",
    "print(len(a));print(len(b));print(len(a*b))\n",
    "print(f\"a^2 = {a**2}\")"
   ]
  },
  {
   "cell_type": "code",
   "execution_count": 8,
   "id": "4d66830a",
   "metadata": {},
   "outputs": [],
   "source": [
    "#Matrix Operations\n",
    "a = np.ones((3,3)) # create matrix using an array\n",
    "b = np.diag([1,3,5])"
   ]
  },
  {
   "cell_type": "code",
   "execution_count": 20,
   "id": "4047c664",
   "metadata": {},
   "outputs": [
    {
     "data": {
      "text/plain": [
       "array([[1, 0, 0],\n",
       "       [0, 3, 0],\n",
       "       [0, 0, 5]])"
      ]
     },
     "execution_count": 20,
     "metadata": {},
     "output_type": "execute_result"
    }
   ],
   "source": [
    "b"
   ]
  },
  {
   "cell_type": "code",
   "execution_count": 14,
   "id": "1f53451b",
   "metadata": {},
   "outputs": [],
   "source": [
    "aa=np.matrix(np.arange(9).reshape(3,3)) # 3x3 matrix using matrix "
   ]
  },
  {
   "cell_type": "code",
   "execution_count": 11,
   "id": "0f9eb3b6",
   "metadata": {},
   "outputs": [
    {
     "data": {
      "text/plain": [
       "matrix([[0, 1, 2],\n",
       "        [3, 4, 5],\n",
       "        [6, 7, 8]])"
      ]
     },
     "execution_count": 11,
     "metadata": {},
     "output_type": "execute_result"
    }
   ],
   "source": [
    "aa"
   ]
  },
  {
   "cell_type": "code",
   "execution_count": 12,
   "id": "9bc26ffb",
   "metadata": {},
   "outputs": [
    {
     "name": "stdout",
     "output_type": "stream",
     "text": [
      "[0 1 2 3 4 5 6 7 8]\n"
     ]
    }
   ],
   "source": [
    "print(np.arange(0,9))"
   ]
  },
  {
   "cell_type": "code",
   "execution_count": 15,
   "id": "9fbc5ac1",
   "metadata": {},
   "outputs": [],
   "source": [
    "bb=np.matrix(np.linspace(0,9,9).reshape(3,3))"
   ]
  },
  {
   "cell_type": "code",
   "execution_count": 16,
   "id": "5d4c52e7",
   "metadata": {},
   "outputs": [
    {
     "data": {
      "text/plain": [
       "matrix([[0.   , 1.125, 2.25 ],\n",
       "        [3.375, 4.5  , 5.625],\n",
       "        [6.75 , 7.875, 9.   ]])"
      ]
     },
     "execution_count": 16,
     "metadata": {},
     "output_type": "execute_result"
    }
   ],
   "source": [
    "bb"
   ]
  },
  {
   "cell_type": "code",
   "execution_count": 21,
   "id": "781cde70",
   "metadata": {},
   "outputs": [
    {
     "data": {
      "text/plain": [
       "array([[1., 1., 1.],\n",
       "       [1., 1., 1.],\n",
       "       [1., 1., 1.]])"
      ]
     },
     "execution_count": 21,
     "metadata": {},
     "output_type": "execute_result"
    }
   ],
   "source": [
    "a"
   ]
  },
  {
   "cell_type": "code",
   "execution_count": 22,
   "id": "d25ec05b",
   "metadata": {},
   "outputs": [
    {
     "data": {
      "text/plain": [
       "array([[1, 0, 0],\n",
       "       [0, 3, 0],\n",
       "       [0, 0, 5]])"
      ]
     },
     "execution_count": 22,
     "metadata": {},
     "output_type": "execute_result"
    }
   ],
   "source": [
    "b"
   ]
  },
  {
   "cell_type": "code",
   "execution_count": 17,
   "id": "d0156217",
   "metadata": {},
   "outputs": [
    {
     "name": "stdout",
     "output_type": "stream",
     "text": [
      "Elementwise Multiplication > \n",
      " [[1. 0. 0.]\n",
      " [0. 3. 0.]\n",
      " [0. 0. 5.]]\n"
     ]
    }
   ],
   "source": [
    "print(\"Elementwise Multiplication > \\n\",a*b)"
   ]
  },
  {
   "cell_type": "code",
   "execution_count": 23,
   "id": "29e3f40b",
   "metadata": {},
   "outputs": [
    {
     "name": "stdout",
     "output_type": "stream",
     "text": [
      "Dot Product > \n",
      " [[1. 3. 5.]\n",
      " [1. 3. 5.]\n",
      " [1. 3. 5.]]\n"
     ]
    }
   ],
   "source": [
    "print(\"Dot Product > \\n\",a.dot(b))"
   ]
  },
  {
   "cell_type": "code",
   "execution_count": 24,
   "id": "0f395dde",
   "metadata": {},
   "outputs": [
    {
     "name": "stdout",
     "output_type": "stream",
     "text": [
      "Cross Product > \n",
      " [[ 0.  1. -1.]\n",
      " [-3.  0.  3.]\n",
      " [ 5. -5.  0.]]\n"
     ]
    }
   ],
   "source": [
    "print(\"Cross Product > \\n\",np.cross(a,b))"
   ]
  },
  {
   "cell_type": "code",
   "execution_count": 25,
   "id": "f77a8be1",
   "metadata": {},
   "outputs": [
    {
     "name": "stdout",
     "output_type": "stream",
     "text": [
      "\n",
      "Determinant: 10.0\n",
      "Inverse Matrix \n",
      " [[ 0.2  0.2  0. ]\n",
      " [-0.2  0.3  1. ]\n",
      " [ 0.2 -0.3 -0. ]]\n"
     ]
    }
   ],
   "source": [
    "# Matrix Determinant & Inverse matrix calculation\n",
    "\n",
    "N = np.array([[3,0,2],[2,0,-2],[0,1,1]])\n",
    "\n",
    "det=np.linalg.det(N)\n",
    "print(\"\\nDeterminant:\", np.round(det))\n",
    "print(\"Inverse Matrix \\n\",np.linalg.inv(N))"
   ]
  },
  {
   "cell_type": "code",
   "execution_count": 30,
   "id": "71b75b44",
   "metadata": {},
   "outputs": [
    {
     "name": "stdout",
     "output_type": "stream",
     "text": [
      "Transpose of matrix \n",
      "\n",
      "[[0.    3.375 6.75 ]\n",
      " [1.125 4.5   7.875]\n",
      " [2.25  5.625 9.   ]]\n"
     ]
    }
   ],
   "source": [
    "# Transpose of the matrix \n",
    "\n",
    "trans_b=np.transpose(bb)\n",
    "trans_b_short=bb.T  # short form \n",
    "print(\"Transpose of matrix \\n\")\n",
    "print(trans_b)"
   ]
  },
  {
   "cell_type": "code",
   "execution_count": 31,
   "id": "b018015a",
   "metadata": {},
   "outputs": [
    {
     "name": "stdout",
     "output_type": "stream",
     "text": [
      "Eigen Values >  [-1. -2.]\n",
      "Eigen Vectors > \n",
      " [[ 0.70710678 -0.4472136 ]\n",
      " [-0.70710678  0.89442719]]\n"
     ]
    }
   ],
   "source": [
    "# Eigen value & vector calculation\n",
    "y = np.array([[0,1],[-2,-3]])\n",
    "\n",
    "eigvals, eigvecs = np.linalg.eig(y)\n",
    "\n",
    "print(\"Eigen Values > \",eigvals)\n",
    "print(\"Eigen Vectors > \\n\",eigvecs)"
   ]
  },
  {
   "cell_type": "code",
   "execution_count": 32,
   "id": "d8a4b6b7",
   "metadata": {},
   "outputs": [],
   "source": [
    "# Estimate a covariance matrix\n",
    "x = np.array([[0, 2, 5], [1, 1, 7], [2, 0 , 3]]) \n",
    "cov=np.cov(x.T)"
   ]
  },
  {
   "cell_type": "code",
   "execution_count": 33,
   "id": "2dbf58a1",
   "metadata": {},
   "outputs": [
    {
     "data": {
      "text/plain": [
       "array([[ 1., -1., -1.],\n",
       "       [-1.,  1.,  1.],\n",
       "       [-1.,  1.,  4.]])"
      ]
     },
     "execution_count": 33,
     "metadata": {},
     "output_type": "execute_result"
    }
   ],
   "source": [
    "cov"
   ]
  },
  {
   "cell_type": "code",
   "execution_count": 34,
   "id": "b4e886bf",
   "metadata": {},
   "outputs": [
    {
     "name": "stdout",
     "output_type": "stream",
     "text": [
      "Trace :  4\n"
     ]
    }
   ],
   "source": [
    "# Trace of the matrix\n",
    "trace_x=np.trace(x)\n",
    "print(f\"Trace :  {trace_x}\")"
   ]
  },
  {
   "cell_type": "code",
   "execution_count": 38,
   "id": "01b21b67",
   "metadata": {},
   "outputs": [
    {
     "data": {
      "text/plain": [
       "9"
      ]
     },
     "execution_count": 38,
     "metadata": {},
     "output_type": "execute_result"
    }
   ],
   "source": [
    "np.trace(b)"
   ]
  },
  {
   "cell_type": "code",
   "execution_count": 37,
   "id": "fefb9d44",
   "metadata": {},
   "outputs": [
    {
     "data": {
      "text/plain": [
       "array([[1, 0, 0],\n",
       "       [0, 3, 0],\n",
       "       [0, 0, 5]])"
      ]
     },
     "execution_count": 37,
     "metadata": {},
     "output_type": "execute_result"
    }
   ],
   "source": [
    "b"
   ]
  },
  {
   "cell_type": "code",
   "execution_count": 39,
   "id": "4f09338d",
   "metadata": {},
   "outputs": [
    {
     "name": "stdout",
     "output_type": "stream",
     "text": [
      "\n",
      "Rank: 3\n"
     ]
    }
   ],
   "source": [
    "# Rank \n",
    "rank = np.linalg.matrix_rank(x)\n",
    "print(\"\\nRank:\", rank)"
   ]
  },
  {
   "cell_type": "code",
   "execution_count": 40,
   "id": "c441fd67",
   "metadata": {},
   "outputs": [
    {
     "data": {
      "image/png": "[encoded data removed]",
      "text/plain": [
       "<Figure size 432x288 with 2 Axes>"
      ]
     },
     "metadata": {
      "needs_background": "light"
     },
     "output_type": "display_data"
    }
   ],
   "source": [
    "import matplotlib.pyplot as plt\n",
    "import numpy as np\n",
    "\n",
    "#plot 1:\n",
    "x = np.array([0, 1, 2, 3])\n",
    "y = np.array([3, 8, 1, 10])\n",
    "\n",
    "plt.subplot(1, 2, 1)\n",
    "plt.plot(x,y)\n",
    "\n",
    "#plot 2:\n",
    "x = np.array([0, 1, 2, 3])\n",
    "y = np.array([10, 20, 30, 40])\n",
    "\n",
    "plt.subplot(1, 2, 2)\n",
    "plt.plot(x,y)\n",
    "\n",
    "plt.show()"
   ]
  },
  {
   "cell_type": "code",
   "execution_count": 41,
   "id": "b206d5b3",
   "metadata": {},
   "outputs": [
    {
     "data": {
      "image/png": "[encoded data removed]",
      "text/plain": [
       "<Figure size 432x288 with 2 Axes>"
      ]
     },
     "metadata": {
      "needs_background": "light"
     },
     "output_type": "display_data"
    }
   ],
   "source": [
    "#plot 1:\n",
    "x = np.array([0, 1, 2, 3])\n",
    "y = np.array([3, 8, 1, 10])\n",
    "\n",
    "plt.subplot(2, 1, 1)\n",
    "plt.plot(x,y)\n",
    "\n",
    "#plot 2:\n",
    "x = np.array([0, 1, 2, 3])\n",
    "y = np.array([10, 20, 30, 40])\n",
    "\n",
    "plt.subplot(2, 1, 2)\n",
    "plt.plot(x,y)\n",
    "\n",
    "plt.show()"
   ]
  },
  {
   "cell_type": "code",
   "execution_count": null,
   "id": "de22253c",
   "metadata": {},
   "outputs": [],
   "source": []
  }
 ],
 "metadata": {
  "kernelspec": {
   "display_name": "Python 3",
   "language": "python",
   "name": "python3"
  },
  "language_info": {
   "codemirror_mode": {
    "name": "ipython",
    "version": 3
   },
   "file_extension": ".py",
   "mimetype": "text/x-python",
   "name": "python",
   "nbconvert_exporter": "python",
   "pygments_lexer": "ipython3",
   "version": "3.8.8"
  }
 },
 "nbformat": 4,
 "nbformat_minor": 5
}
